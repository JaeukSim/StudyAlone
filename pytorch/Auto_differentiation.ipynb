{
 "cells": [
  {
   "cell_type": "code",
   "execution_count": 85,
   "source": [
    "# 자동미분 실습\r\n",
    "import torch\r\n",
    "import torch.nn as nn\r\n",
    "import torch.nn.functional as F\r\n",
    "import torch.optim as optim\r\n",
    "\r\n",
    "\r\n",
    "# 값이 2인 임의의 스칼라 텐서 w를 선언할때 requires_grad=True\r\n",
    "# 2는 이 텐서에 대한 기울기 저장을 의미 "
   ],
   "outputs": [],
   "metadata": {}
  },
  {
   "cell_type": "code",
   "execution_count": 86,
   "source": [
    "w = torch.tensor(2.0 , requires_grad=True)\r\n",
    "print(w.size())\r\n",
    "# 2w^2 + 5 = 8\r\n",
    "y = w**2\r\n",
    "z = 2*y +5\r\n",
    "\r\n",
    "# 이제 해당 수식을 w에 대해서 미분 backward()호출하면 해당 수식의 w에 대한 기울기 계산\r\n",
    "print(z)\r\n",
    "z.backward()\r\n",
    "print(z)"
   ],
   "outputs": [
    {
     "output_type": "stream",
     "name": "stdout",
     "text": [
      "torch.Size([])\n",
      "tensor(13., grad_fn=<AddBackward0>)\n",
      "tensor(13., grad_fn=<AddBackward0>)\n"
     ]
    }
   ],
   "metadata": {}
  },
  {
   "cell_type": "markdown",
   "source": [],
   "metadata": {}
  }
 ],
 "metadata": {
  "orig_nbformat": 4,
  "language_info": {
   "name": "python"
  }
 },
 "nbformat": 4,
 "nbformat_minor": 2
}