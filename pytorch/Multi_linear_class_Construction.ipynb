{
 "cells": [
  {
   "cell_type": "code",
   "execution_count": 1,
   "source": [
    "# 다중 선형 클래스 구현\r\n",
    "\r\n",
    "import torch\r\n",
    "import torch.nn as nn\r\n",
    "import torch.nn.functional as F\r\n",
    "import torch.optim as optim\r\n",
    "\r\n",
    "torch.manual_seed(7777)\r\n"
   ],
   "outputs": [
    {
     "output_type": "execute_result",
     "data": {
      "text/plain": [
       "<torch._C.Generator at 0x1e2cb0cde10>"
      ]
     },
     "metadata": {},
     "execution_count": 1
    }
   ],
   "metadata": {}
  },
  {
   "cell_type": "code",
   "execution_count": 4,
   "source": [
    "# dataset\r\n",
    "\r\n",
    "x_train = torch.FloatTensor([\r\n",
    "    [73, 80, 75],\r\n",
    "    [93,88,93],\r\n",
    "    [89,91,90],\r\n",
    "    [96,98,100],\r\n",
    "    [73,66,70]\r\n",
    "])\r\n",
    "\r\n",
    "y_train = torch.FloatTensor([[152],[185],[180],[196],[142]])"
   ],
   "outputs": [],
   "metadata": {}
  },
  {
   "cell_type": "code",
   "execution_count": 6,
   "source": [
    "# class 생성\r\n",
    "class MultivariateLinearRegressionModel(nn.Module):\r\n",
    "    def __init__(self):\r\n",
    "        super().__init__()\r\n",
    "        self.linear = nn.Linear(3,1) # 다중 선형 회귀이므로 input dim =3, output dim= 1\r\n",
    "        pass\r\n",
    "    def forward(self, x):\r\n",
    "        return self.linear(x)\r\n",
    "\r\n",
    "    "
   ],
   "outputs": [],
   "metadata": {}
  },
  {
   "cell_type": "code",
   "execution_count": 7,
   "source": [
    "# model\r\n",
    "model = MultivariateLinearRegressionModel()\r\n",
    "\r\n",
    "#optimizer\r\n",
    "optimizer = torch.optim.SGD(model.parameters(), lr=1e-5)"
   ],
   "outputs": [],
   "metadata": {}
  },
  {
   "cell_type": "code",
   "execution_count": 8,
   "source": [
    "# train Loop\r\n",
    "epoch_num = 2000\r\n",
    "for epoch in range(epoch_num+1):\r\n",
    "    # 가설 세우기\r\n",
    "    prediction = model(x_train) # model(x_train)==model.forward(x_train)\r\n",
    "\r\n",
    "    # loss \r\n",
    "    # F.mse_loss -> 파이토치에서 제공하는 평균 제곱 오차 함수\r\n",
    "    loss =F.mse_loss(prediction, y_train)\r\n",
    "\r\n",
    "    # loss 개선\r\n",
    "    optimizer.zero_grad() #기울기를 0으로 초기화\r\n",
    "    loss.backward() # loss 함수를 미분하여 기울기 계산\r\n",
    "    optimizer.step() # w and b 업데이트\r\n",
    "    # print # 100번 마다 출력\r\n",
    "    if epoch % 100 ==0:\r\n",
    "        print(\"Epoch {:4d}/{} loss : {:.6f}\"\r\n",
    "        .format(epoch, epoch_num, loss.item()))"
   ],
   "outputs": [
    {
     "output_type": "stream",
     "name": "stdout",
     "text": [
      "Epoch    0/2000 loss : 22850.830078\n",
      "Epoch  100/2000 loss : 2.128604\n",
      "Epoch  200/2000 loss : 2.025721\n",
      "Epoch  300/2000 loss : 1.928234\n",
      "Epoch  400/2000 loss : 1.835889\n",
      "Epoch  500/2000 loss : 1.748398\n",
      "Epoch  600/2000 loss : 1.665532\n",
      "Epoch  700/2000 loss : 1.587034\n",
      "Epoch  800/2000 loss : 1.512649\n",
      "Epoch  900/2000 loss : 1.442212\n",
      "Epoch 1000/2000 loss : 1.375473\n",
      "Epoch 1100/2000 loss : 1.312263\n",
      "Epoch 1200/2000 loss : 1.252363\n",
      "Epoch 1300/2000 loss : 1.195623\n",
      "Epoch 1400/2000 loss : 1.141874\n",
      "Epoch 1500/2000 loss : 1.090932\n",
      "Epoch 1600/2000 loss : 1.042720\n",
      "Epoch 1700/2000 loss : 0.997007\n",
      "Epoch 1800/2000 loss : 0.953721\n",
      "Epoch 1900/2000 loss : 0.912699\n",
      "Epoch 2000/2000 loss : 0.873840\n"
     ]
    }
   ],
   "metadata": {}
  },
  {
   "cell_type": "code",
   "execution_count": 12,
   "source": [
    "# 훈련이 되었는지 안되었는지 확인\r\n",
    "\r\n",
    "new_var = torch.FloatTensor([[73,80,75]])\r\n",
    "pred_y = model(new_var)\r\n",
    "print(\"훈련 후 입력이 73, 80, 75 일때 예측 값 : \", pred_y)"
   ],
   "outputs": [
    {
     "output_type": "stream",
     "name": "stdout",
     "text": [
      "훈련 후 입력이 73, 80, 75 일때 예측 값 :  tensor([[152.8794]], grad_fn=<AddmmBackward>)\n"
     ]
    }
   ],
   "metadata": {}
  }
 ],
 "metadata": {
  "orig_nbformat": 4,
  "language_info": {
   "name": "python"
  }
 },
 "nbformat": 4,
 "nbformat_minor": 2
}