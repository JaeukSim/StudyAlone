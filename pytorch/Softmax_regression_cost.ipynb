{
 "cells": [
  {
   "cell_type": "code",
   "execution_count": null,
   "source": [
    "import torch\r\n",
    "import torch.nn as nn\r\n",
    "import torch.nn.functional as F\r\n",
    "import torch.optim as optim\r\n",
    "import numpy as np\r\n",
    "import matplotlib.pyplot as plt\r\n",
    "\r\n",
    "torch.manual_seed(1)"
   ],
   "outputs": [
    {
     "output_type": "error",
     "ename": "Error",
     "evalue": "Session cannot generate requests",
     "traceback": [
      "Error: Session cannot generate requests",
      "at w.executeCodeCell (c:\\Users\\PC\\.vscode\\extensions\\ms-toolsai.jupyter-2021.8.1013163132\\out\\client\\extension.js:90:320068)",
      "at w.execute (c:\\Users\\PC\\.vscode\\extensions\\ms-toolsai.jupyter-2021.8.1013163132\\out\\client\\extension.js:90:319389)",
      "at w.start (c:\\Users\\PC\\.vscode\\extensions\\ms-toolsai.jupyter-2021.8.1013163132\\out\\client\\extension.js:90:315205)",
      "at runMicrotasks (<anonymous>)",
      "at processTicksAndRejections (internal/process/task_queues.js:93:5)",
      "at async t.CellExecutionQueue.executeQueuedCells (c:\\Users\\PC\\.vscode\\extensions\\ms-toolsai.jupyter-2021.8.1013163132\\out\\client\\extension.js:90:329732)",
      "at async t.CellExecutionQueue.start (c:\\Users\\PC\\.vscode\\extensions\\ms-toolsai.jupyter-2021.8.1013163132\\out\\client\\extension.js:90:329272)"
     ]
    }
   ],
   "metadata": {}
  },
  {
   "cell_type": "code",
   "execution_count": null,
   "source": [
    "# data \r\n",
    "x_train =[\r\n",
    "    [1,2,1,1],\r\n",
    "    [2,1,3,2],\r\n",
    "    [3,1,3,4],\r\n",
    "    [4,1,5,5],\r\n",
    "    [1,7,5,5],\r\n",
    "    [1,2,5,6],\r\n",
    "    [1,6,6,6],\r\n",
    "    [1,7,7,7]\r\n",
    "]\r\n",
    "y_train = [2,2,2,1,1,1,0,0]\r\n",
    "\r\n",
    "# data -> tensorFlot\r\n",
    "x_train= torch.FloatTensor(x_train)\r\n",
    "y_train= torch.FloatTensor(y_train)\r\n"
   ],
   "outputs": [],
   "metadata": {}
  },
  {
   "cell_type": "code",
   "execution_count": null,
   "source": [
    "# SoftMax Contruct\r\n",
    "y_one_hot = torch.zeros(8,3)\r\n",
    "print(y_one_hot)"
   ],
   "outputs": [
    {
     "output_type": "stream",
     "name": "stdout",
     "text": [
      "tensor([[0., 0., 0.],\n",
      "        [0., 0., 0.],\n",
      "        [0., 0., 0.],\n",
      "        [0., 0., 0.],\n",
      "        [0., 0., 0.],\n",
      "        [0., 0., 0.],\n",
      "        [0., 0., 0.],\n",
      "        [0., 0., 0.]])\n"
     ]
    }
   ],
   "metadata": {}
  },
  {
   "cell_type": "code",
   "execution_count": null,
   "source": [
    "# 모델 초기화\r\n",
    "w = torch.zeros((4,3), requires_grad=True)\r\n",
    "b = torch.zeros(1, requires_grad=True)\r\n",
    "\r\n",
    "# 옵티마이저 설정\r\n",
    "optimizer = optim.SGD([w,b], lr=0.1)"
   ],
   "outputs": [],
   "metadata": {}
  },
  {
   "cell_type": "code",
   "execution_count": null,
   "source": [
    "# F.softmax() and torch.log() 를 사용하여 가설과 비용 함수를 정의하고, 총 1000번의 epoch를 수행\r\n",
    "epochs =1000\r\n",
    "for epoch in range(epochs+1):\r\n",
    "    # 가설\r\n",
    "    hypothesis = F.softmax(x_train.matmul(w)+b, dim=1)\r\n",
    "\r\n",
    "    # Loss\r\n",
    "    loss = (y_one_hot * -torch.log(hypothesis)).sum(dim=1).mean()\r\n",
    "    \r\n",
    "    # Loss H(x)\r\n",
    "    optimizer.zero_grad()\r\n",
    "    loss.backward()\r\n",
    "    optimizer.step()\r\n",
    "\r\n",
    "    #print\r\n",
    "    if epoch % 100 ==0:\r\n",
    "        print(\"Epoch : {:4d}/{} loss :{:.6f}\".format(epoch, epochs, loss.item()))\r\n"
   ],
   "outputs": [
    {
     "output_type": "error",
     "ename": "Error",
     "evalue": "Session cannot generate requests",
     "traceback": [
      "Error: Session cannot generate requests",
      "at w.executeCodeCell (c:\\Users\\PC\\.vscode\\extensions\\ms-toolsai.jupyter-2021.8.1013163132\\out\\client\\extension.js:90:320068)",
      "at w.execute (c:\\Users\\PC\\.vscode\\extensions\\ms-toolsai.jupyter-2021.8.1013163132\\out\\client\\extension.js:90:319389)",
      "at w.start (c:\\Users\\PC\\.vscode\\extensions\\ms-toolsai.jupyter-2021.8.1013163132\\out\\client\\extension.js:90:315205)",
      "at runMicrotasks (<anonymous>)",
      "at processTicksAndRejections (internal/process/task_queues.js:93:5)",
      "at async t.CellExecutionQueue.executeQueuedCells (c:\\Users\\PC\\.vscode\\extensions\\ms-toolsai.jupyter-2021.8.1013163132\\out\\client\\extension.js:90:329732)",
      "at async t.CellExecutionQueue.start (c:\\Users\\PC\\.vscode\\extensions\\ms-toolsai.jupyter-2021.8.1013163132\\out\\client\\extension.js:90:329272)"
     ]
    }
   ],
   "metadata": {}
  }
 ],
 "metadata": {
  "orig_nbformat": 4,
  "language_info": {
   "name": "python"
  }
 },
 "nbformat": 4,
 "nbformat_minor": 2
}